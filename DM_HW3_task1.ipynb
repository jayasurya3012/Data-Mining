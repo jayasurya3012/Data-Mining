{
 "cells": [
  {
   "cell_type": "code",
   "execution_count": 1,
   "metadata": {},
   "outputs": [],
   "source": [
    "import numpy as np\n",
    "import pandas as pd\n",
    "from sklearn.preprocessing import normalize\n",
    "from sklearn.metrics import accuracy_score"
   ]
  },
  {
   "cell_type": "code",
   "execution_count": 2,
   "metadata": {},
   "outputs": [],
   "source": [
    "def compute_euclidean(vec1, vec2):\n",
    "    return np.linalg.norm(vec1 - vec2)\n",
    "\n",
    "def compute_cosine(vec1, vec2):\n",
    "    dot_product = np.dot(vec1, vec2)\n",
    "    norm_product = np.linalg.norm(vec1) * np.linalg.norm(vec2) + 1e-10\n",
    "    return 1 - (dot_product / norm_product)\n",
    "\n",
    "def compute_jaccard(vec1, vec2):\n",
    "    intersection = np.sum(np.minimum(vec1, vec2))\n",
    "    union = np.sum(np.maximum(vec1, vec2)) + 1e-10\n",
    "    return 1 - (intersection / union)"
   ]
  },
  {
   "cell_type": "code",
   "execution_count": null,
   "metadata": {},
   "outputs": [],
   "source": [
    "def custom_kmeans(X, num_clusters, distance_fn, max_iterations=100):\n",
    "    n_samples, _ = X.shape\n",
    "    centroids = X[np.random.choice(n_samples, num_clusters, replace=False)]\n",
    "    \n",
    "    for _ in range(max_iterations):\n",
    "        groups = [[] for _ in range(num_clusters)]\n",
    "        \n",
    "        for idx, sample in enumerate(X):\n",
    "            dists = [distance_fn(sample, center) for center in centroids]\n",
    "            closest = np.argmin(dists)\n",
    "            groups[closest].append(idx)\n",
    "        \n",
    "        new_centroids = np.zeros_like(centroids)\n",
    "        for i, group in enumerate(groups):\n",
    "            if group:\n",
    "                new_centroids[i] = np.mean(X[group], axis=0)\n",
    "            else:\n",
    "                new_centroids[i] = X[np.random.choice(n_samples)]\n",
    "        \n",
    "        if np.allclose(centroids, new_centroids, atol=1e-6):\n",
    "            break\n",
    "        centroids = new_centroids\n",
    "\n",
    "    total_sse = sum(\n",
    "        distance_fn(X[i], centroids[cluster_idx]) ** 2\n",
    "        for cluster_idx, group in enumerate(groups)\n",
    "        for i in group\n",
    "    )\n",
    "\n",
    "    return centroids, groups, total_sse"
   ]
  },
  {
   "cell_type": "code",
   "execution_count": 4,
   "metadata": {},
   "outputs": [],
   "source": [
    "features = pd.read_csv('.\\kmeans_data\\data.csv').values\n",
    "true_labels = pd.read_csv('.\\kmeans_data\\label.csv').values.ravel()"
   ]
  },
  {
   "cell_type": "code",
   "execution_count": 5,
   "metadata": {},
   "outputs": [],
   "source": [
    "features_normalized = normalize(features, axis=0)\n",
    "\n",
    "num_classes = len(np.unique(true_labels))\n",
    "\n",
    "_, _, sse_euc = custom_kmeans(features, num_classes, compute_euclidean)\n",
    "_, _, sse_cos = custom_kmeans(features_normalized, num_classes, compute_cosine)\n",
    "_, _, sse_jac = custom_kmeans(features_normalized, num_classes, compute_jaccard)"
   ]
  },
  {
   "cell_type": "markdown",
   "metadata": {},
   "source": [
    "# Q1"
   ]
  },
  {
   "cell_type": "code",
   "execution_count": 7,
   "metadata": {},
   "outputs": [
    {
     "name": "stdout",
     "output_type": "stream",
     "text": [
      "SSE (Euclidean): 25370624296.0\n",
      "SSE (Cosine): 1411.0988120027505\n",
      "SSE (Jaccard): 4411.539120555272\n",
      "Lowest SSE achieved with: Cosine (SSE = 1411.0988)\n"
     ]
    }
   ],
   "source": [
    "print(f\"SSE (Euclidean): {sse_euc}\")\n",
    "print(f\"SSE (Cosine): {sse_cos}\")\n",
    "print(f\"SSE (Jaccard): {sse_jac}\")\n",
    "\n",
    "lowest_sse = min((sse_euc, \"Euclidean\"), (sse_cos, \"Cosine\"), (sse_jac, \"Jaccard\"))\n",
    "print(f\"Lowest SSE achieved with: {lowest_sse[1]} (SSE = {lowest_sse[0]:.4f})\")"
   ]
  },
  {
   "cell_type": "code",
   "execution_count": 8,
   "metadata": {},
   "outputs": [],
   "source": [
    "def assign_labels_by_majority(cluster_groups, actual_labels):\n",
    "    predicted = np.zeros(len(actual_labels), dtype=int)\n",
    "    for idx, group in enumerate(cluster_groups):\n",
    "        if group:\n",
    "            group_labels = actual_labels[group]\n",
    "            majority = np.argmax(np.bincount(group_labels))\n",
    "            for i in group:\n",
    "                predicted[i] = majority\n",
    "    return predicted"
   ]
  },
  {
   "cell_type": "markdown",
   "metadata": {},
   "source": [
    "# Q2"
   ]
  },
  {
   "cell_type": "code",
   "execution_count": 9,
   "metadata": {},
   "outputs": [
    {
     "name": "stdout",
     "output_type": "stream",
     "text": [
      "Accuracy (Euclidean): 0.5918\n",
      "Accuracy (Cosine): 0.5172\n",
      "Accuracy (Jaccard): 0.5846\n",
      "Best method by accuracy: Euclidean (0.5918)\n"
     ]
    }
   ],
   "source": [
    "centroids_euc, groups_euc, _ = custom_kmeans(features, num_classes, compute_euclidean)\n",
    "centroids_cos, groups_cos, _ = custom_kmeans(features_normalized, num_classes, compute_cosine)\n",
    "centroids_jac, groups_jac, _ = custom_kmeans(features_normalized, num_classes, compute_jaccard)\n",
    "\n",
    "preds_euc = assign_labels_by_majority(groups_euc, true_labels)\n",
    "preds_cos = assign_labels_by_majority(groups_cos, true_labels)\n",
    "preds_jac = assign_labels_by_majority(groups_jac, true_labels)\n",
    "\n",
    "acc_euc = accuracy_score(true_labels, preds_euc)\n",
    "acc_cos = accuracy_score(true_labels, preds_cos)\n",
    "acc_jac = accuracy_score(true_labels, preds_jac)\n",
    "\n",
    "print(f\"Accuracy (Euclidean): {acc_euc:.4f}\")\n",
    "print(f\"Accuracy (Cosine): {acc_cos:.4f}\")\n",
    "print(f\"Accuracy (Jaccard): {acc_jac:.4f}\")\n",
    "\n",
    "best_accuracy = max((acc_euc, \"Euclidean\"), (acc_cos, \"Cosine\"), (acc_jac, \"Jaccard\"))\n",
    "print(f\"Best method by accuracy: {best_accuracy[1]} ({best_accuracy[0]:.4f})\")"
   ]
  },
  {
   "cell_type": "code",
   "execution_count": 28,
   "metadata": {},
   "outputs": [],
   "source": [
    "def run_kmeans(data, k, dist_fn, max_iterations=500, tolerance=1e-6):\n",
    "    num_samples, num_features = data.shape\n",
    "    centers = data[np.random.choice(num_samples, k, replace=False)]\n",
    "\n",
    "    previous_sse = float('inf')\n",
    "    for iteration in range(max_iterations):\n",
    "        grouped_points = [[] for _ in range(k)]\n",
    "        for i, sample in enumerate(data):\n",
    "            dists = [dist_fn(sample, center) for center in centers]\n",
    "            assigned_cluster = np.argmin(dists)\n",
    "            grouped_points[assigned_cluster].append(i)\n",
    "\n",
    "        updated_centers = np.zeros_like(centers)\n",
    "        for idx, group in enumerate(grouped_points):\n",
    "            if group:\n",
    "                updated_centers[idx] = np.mean(data[group], axis=0)\n",
    "            else:\n",
    "                updated_centers[idx] = data[np.random.choice(num_samples)]\n",
    "\n",
    "        current_sse = sum(dist_fn(data[i], centers[cluster]) ** 2 \n",
    "                          for cluster, group in enumerate(grouped_points) for i in group)\n",
    "\n",
    "        # Stopping condition\n",
    "        if np.allclose(centers, updated_centers, atol=tolerance):\n",
    "            print(f\"Stopped: Centroids stable at iteration {iteration + 1}\")\n",
    "            break\n",
    "        \n",
    "\n",
    "        centers = updated_centers\n",
    "        previous_sse = current_sse\n",
    "\n",
    "    return centers, grouped_points, current_sse\n"
   ]
  },
  {
   "cell_type": "code",
   "execution_count": 29,
   "metadata": {},
   "outputs": [],
   "source": [
    "import time"
   ]
  },
  {
   "cell_type": "markdown",
   "metadata": {},
   "source": [
    "# Q3"
   ]
  },
  {
   "cell_type": "code",
   "execution_count": 30,
   "metadata": {},
   "outputs": [
    {
     "name": "stdout",
     "output_type": "stream",
     "text": [
      "Stopped: Centroids stable at iteration 76\n",
      "Stopped: Centroids stable at iteration 31\n",
      "Stopped: Centroids stable at iteration 68\n",
      "Time for Euclidean K-means: 43.1256 seconds\n",
      "Time for Cosine K-means: 29.6622 seconds\n",
      "Time for Jaccard K-means: 74.7442 seconds\n"
     ]
    }
   ],
   "source": [
    "start = time.time()\n",
    "centroids_euc, clusters_euc, sse_euc = run_kmeans(features, num_classes, compute_euclidean)\n",
    "duration_euc = time.time() - start\n",
    "\n",
    "start = time.time()\n",
    "centroids_cos, clusters_cos, sse_cos = run_kmeans(features_normalized, num_classes, compute_cosine)\n",
    "duration_cos = time.time() - start\n",
    "\n",
    "start = time.time()\n",
    "centroids_jac, clusters_jac, sse_jac = run_kmeans(features_normalized, num_classes, compute_jaccard)\n",
    "duration_jac = time.time() - start\n",
    "\n",
    "# Output runtime details\n",
    "print(f\"Time for Euclidean K-means: {duration_euc:.4f} seconds\")\n",
    "print(f\"Time for Cosine K-means: {duration_cos:.4f} seconds\")\n",
    "print(f\"Time for Jaccard K-means: {duration_jac:.4f} seconds\")\n"
   ]
  },
  {
   "cell_type": "code",
   "execution_count": 25,
   "metadata": {},
   "outputs": [],
   "source": [
    "def adaptive_kmeans(data, k, dist_fn, stop_criterion, max_iterations=100, tolerance=1e-6):\n",
    "    num_samples, num_features = data.shape\n",
    "    centroids = data[np.random.choice(num_samples, k, replace=False)]\n",
    "\n",
    "    last_sse = float('inf')\n",
    "    for i in range(max_iterations):\n",
    "        clusters = [[] for _ in range(k)]\n",
    "        for j, pt in enumerate(data):\n",
    "            dists = [dist_fn(pt, c) for c in centroids]\n",
    "            chosen = np.argmin(dists)\n",
    "            clusters[chosen].append(j)\n",
    "\n",
    "        new_centroids = np.zeros_like(centroids)\n",
    "        for idx, cluster in enumerate(clusters):\n",
    "            new_centroids[idx] = np.mean(data[cluster], axis=0) if cluster else data[np.random.choice(num_samples)]\n",
    "\n",
    "        current_sse = sum(dist_fn(data[i], centroids[cl])**2 for cl, group in enumerate(clusters) for i in group)\n",
    "\n",
    "        if stop_criterion == 'centroid_change' and np.allclose(centroids, new_centroids, atol=tolerance):\n",
    "            print(f\"Centroid stability met at iteration {i+1}\")\n",
    "            break\n",
    "        elif stop_criterion == 'sse_increase' and current_sse > last_sse:\n",
    "            print(f\"SSE increased at iteration {i+1}\")\n",
    "            break\n",
    "        elif stop_criterion == 'max_iters' and i == max_iterations - 1:\n",
    "            print(f\"Reached iteration limit ({max_iterations})\")\n",
    "            break\n",
    "\n",
    "        centroids = new_centroids\n",
    "        last_sse = current_sse\n",
    "\n",
    "    return current_sse"
   ]
  },
  {
   "cell_type": "code",
   "execution_count": 26,
   "metadata": {},
   "outputs": [],
   "source": [
    "def evaluate_sse_comparisons(data, k, max_iters=100):\n",
    "    criteria = ['centroid_change', 'sse_increase', 'max_iters']\n",
    "    metrics = [('Euclidean', compute_euclidean), \n",
    "               ('Cosine', compute_cosine), \n",
    "               ('Jaccard', compute_jaccard)]\n",
    "    \n",
    "    all_sse = {}\n",
    "    for name, metric_fn in metrics:\n",
    "        all_sse[name] = {}\n",
    "        for rule in criteria:\n",
    "            result_sse = adaptive_kmeans(data, k, metric_fn, rule, max_iterations=max_iters)\n",
    "            all_sse[name][rule] = result_sse\n",
    "            print(f\"SSE using {name} with {rule}: {result_sse:.4f}\")\n",
    "    return all_sse\n"
   ]
  },
  {
   "cell_type": "markdown",
   "metadata": {},
   "source": [
    "# Q4"
   ]
  },
  {
   "cell_type": "code",
   "execution_count": 27,
   "metadata": {},
   "outputs": [
    {
     "name": "stdout",
     "output_type": "stream",
     "text": [
      "Centroid stability met at iteration 52\n",
      "SSE using Euclidean with centroid_change: 25511923380.0000\n",
      "SSE using Euclidean with sse_increase: 25407648207.0000\n",
      "Reached iteration limit (100)\n",
      "SSE using Euclidean with max_iters: 25321222561.0000\n",
      "Centroid stability met at iteration 57\n",
      "SSE using Cosine with centroid_change: 682.1154\n",
      "SSE increased at iteration 35\n",
      "SSE using Cosine with sse_increase: 686.7421\n",
      "Reached iteration limit (100)\n",
      "SSE using Cosine with max_iters: 684.1737\n",
      "Centroid stability met at iteration 44\n",
      "SSE using Jaccard with centroid_change: 3682.2352\n",
      "SSE increased at iteration 2\n",
      "SSE using Jaccard with sse_increase: 4056.3272\n",
      "Reached iteration limit (100)\n",
      "SSE using Jaccard with max_iters: 3652.7958\n",
      "\n",
      "Overall SSE Comparison by Metric and Stop Rule:\n",
      "\n",
      "Euclidean Metric:\n",
      "  centroid_change: SSE = 25511923380.0000\n",
      "  sse_increase: SSE = 25407648207.0000\n",
      "  max_iters: SSE = 25321222561.0000\n",
      "\n",
      "Cosine Metric:\n",
      "  centroid_change: SSE = 682.1154\n",
      "  sse_increase: SSE = 686.7421\n",
      "  max_iters: SSE = 684.1737\n",
      "\n",
      "Jaccard Metric:\n",
      "  centroid_change: SSE = 3682.2352\n",
      "  sse_increase: SSE = 4056.3272\n",
      "  max_iters: SSE = 3652.7958\n"
     ]
    }
   ],
   "source": [
    "sse_summary = evaluate_sse_comparisons(features, num_classes, max_iters=100)\n",
    "\n",
    "# Display the summarized results\n",
    "print(\"\\nOverall SSE Comparison by Metric and Stop Rule:\")\n",
    "for metric, results in sse_summary.items():\n",
    "    print(f\"\\n{metric} Metric:\")\n",
    "    for condition, score in results.items():\n",
    "        print(f\"  {condition}: SSE = {score:.4f}\")"
   ]
  },
  {
   "cell_type": "code",
   "execution_count": null,
   "metadata": {},
   "outputs": [],
   "source": []
  }
 ],
 "metadata": {
  "kernelspec": {
   "display_name": "Python 3",
   "language": "python",
   "name": "python3"
  },
  "language_info": {
   "codemirror_mode": {
    "name": "ipython",
    "version": 3
   },
   "file_extension": ".py",
   "mimetype": "text/x-python",
   "name": "python",
   "nbconvert_exporter": "python",
   "pygments_lexer": "ipython3",
   "version": "3.11.9"
  }
 },
 "nbformat": 4,
 "nbformat_minor": 2
}
